{
  "nbformat": 4,
  "nbformat_minor": 0,
  "metadata": {
    "colab": {
      "name": "Day2Session1ExcercisePrograms.ipynb",
      "provenance": [],
      "authorship_tag": "ABX9TyPhVoLhthZDfRc2h8X5kTLo",
      "include_colab_link": true
    },
    "kernelspec": {
      "name": "python3",
      "display_name": "Python 3"
    }
  },
  "cells": [
    {
      "cell_type": "markdown",
      "metadata": {
        "id": "view-in-github",
        "colab_type": "text"
      },
      "source": [
        "<a href=\"https://colab.research.google.com/github/nandithashetty/Applications-of-Python-Programming-in-DA-and-ML/blob/master/Day2Session1ExcercisePrograms.ipynb\" target=\"_parent\"><img src=\"https://colab.research.google.com/assets/colab-badge.svg\" alt=\"Open In Colab\"/></a>"
      ]
    },
    {
      "cell_type": "markdown",
      "metadata": {
        "id": "wJAsSmm0DX7a",
        "colab_type": "text"
      },
      "source": [
        "**LIST EXAMPLES**"
      ]
    },
    {
      "cell_type": "markdown",
      "metadata": {
        "id": "0aaM3JbXd10z",
        "colab_type": "text"
      },
      "source": [
        "1.print multiples of 3 upto 200 using a list"
      ]
    },
    {
      "cell_type": "code",
      "metadata": {
        "id": "U3x8Zvqrd02-",
        "colab_type": "code",
        "colab": {
          "base_uri": "https://localhost:8080/",
          "height": 54
        },
        "outputId": "6ac75532-c167-4c6c-89d5-d0aa0e28448a"
      },
      "source": [
        "def multiple(m, n): \n",
        "    a = range(n, (m * n)+1, n)   \n",
        "    print(*a)   \n",
        "m = 66\n",
        "n = 3\n",
        "multiple(m, n)\n"
      ],
      "execution_count": 1,
      "outputs": [
        {
          "output_type": "stream",
          "text": [
            "3 6 9 12 15 18 21 24 27 30 33 36 39 42 45 48 51 54 57 60 63 66 69 72 75 78 81 84 87 90 93 96 99 102 105 108 111 114 117 120 123 126 129 132 135 138 141 144 147 150 153 156 159 162 165 168 171 174 177 180 183 186 189 192 195 198\n"
          ],
          "name": "stdout"
        }
      ]
    },
    {
      "cell_type": "markdown",
      "metadata": {
        "id": "S7YeQDX4eIer",
        "colab_type": "text"
      },
      "source": [
        "2.print the nos only divisable by 5 and 7 between 1000 and 2000 using a list( both inclusive)"
      ]
    },
    {
      "cell_type": "code",
      "metadata": {
        "id": "BteyqI6geCM5",
        "colab_type": "code",
        "colab": {
          "base_uri": "https://localhost:8080/",
          "height": 34
        },
        "outputId": "b0f90fa7-a229-4b74-db3e-b88047135093"
      },
      "source": [
        "nl=[]\n",
        "for x in range(1000, 2000):\n",
        "    if (x%7==0) and (x%5==0):\n",
        "        nl.append(str(x))\n",
        "print (','.join(nl))"
      ],
      "execution_count": 2,
      "outputs": [
        {
          "output_type": "stream",
          "text": [
            "1015,1050,1085,1120,1155,1190,1225,1260,1295,1330,1365,1400,1435,1470,1505,1540,1575,1610,1645,1680,1715,1750,1785,1820,1855,1890,1925,1960,1995\n"
          ],
          "name": "stdout"
        }
      ]
    },
    {
      "cell_type": "markdown",
      "metadata": {
        "id": "3BMWjgxMeXyZ",
        "colab_type": "text"
      },
      "source": [
        "3.Add the n number of names in a list and print them alphabetically and reverse alphabetically"
      ]
    },
    {
      "cell_type": "code",
      "metadata": {
        "id": "D20-yGe7eWT9",
        "colab_type": "code",
        "colab": {
          "base_uri": "https://localhost:8080/",
          "height": 168
        },
        "outputId": "de61ec88-cfc3-424c-c545-8d9867e3079d"
      },
      "source": [
        "locations = list(input().split())\n",
        "\n",
        "print(\"Original order:\")\n",
        "print(locations)\n",
        "\n",
        "print(\"\\nAlphabetical:\")\n",
        "print(sorted(locations))\n",
        "print(\"\\nReverse alphabetical:\")\n",
        "print(sorted(locations, reverse=True))"
      ],
      "execution_count": 5,
      "outputs": [
        {
          "output_type": "stream",
          "text": [
            "ram asha sham\n",
            "Original order:\n",
            "['ram', 'asha', 'sham']\n",
            "\n",
            "Alphabetical:\n",
            "['asha', 'ram', 'sham']\n",
            "\n",
            "Reverse alphabetical:\n",
            "['sham', 'ram', 'asha']\n"
          ],
          "name": "stdout"
        }
      ]
    },
    {
      "cell_type": "markdown",
      "metadata": {
        "id": "CVIG0nnKe5c2",
        "colab_type": "text"
      },
      "source": [
        "4.Print  perfect squares and divisible by 5 between 500 and 1000(both inclusive) using list\n",
        "\n"
      ]
    },
    {
      "cell_type": "code",
      "metadata": {
        "id": "Ni4AqLOreqM8",
        "colab_type": "code",
        "colab": {
          "base_uri": "https://localhost:8080/",
          "height": 1000
        },
        "outputId": "f899229e-8990-4987-e81f-88e5c4b8089e"
      },
      "source": [
        "lower=int(input(\"Enter lower range limit:\"))\n",
        "upper=int(input(\"Enter upper range limit:\"))\n",
        "n=int(input(\"Enter the number to be divided by:\"))\n",
        "for i in range(lower,upper+1):\n",
        "    if(i%n==0):\n",
        "        print(i)\n"
      ],
      "execution_count": 7,
      "outputs": [
        {
          "output_type": "stream",
          "text": [
            "Enter lower range limit:600\n",
            "Enter upper range limit:1500\n",
            "Enter the number to be divided by:5\n",
            "600\n",
            "605\n",
            "610\n",
            "615\n",
            "620\n",
            "625\n",
            "630\n",
            "635\n",
            "640\n",
            "645\n",
            "650\n",
            "655\n",
            "660\n",
            "665\n",
            "670\n",
            "675\n",
            "680\n",
            "685\n",
            "690\n",
            "695\n",
            "700\n",
            "705\n",
            "710\n",
            "715\n",
            "720\n",
            "725\n",
            "730\n",
            "735\n",
            "740\n",
            "745\n",
            "750\n",
            "755\n",
            "760\n",
            "765\n",
            "770\n",
            "775\n",
            "780\n",
            "785\n",
            "790\n",
            "795\n",
            "800\n",
            "805\n",
            "810\n",
            "815\n",
            "820\n",
            "825\n",
            "830\n",
            "835\n",
            "840\n",
            "845\n",
            "850\n",
            "855\n",
            "860\n",
            "865\n",
            "870\n",
            "875\n",
            "880\n",
            "885\n",
            "890\n",
            "895\n",
            "900\n",
            "905\n",
            "910\n",
            "915\n",
            "920\n",
            "925\n",
            "930\n",
            "935\n",
            "940\n",
            "945\n",
            "950\n",
            "955\n",
            "960\n",
            "965\n",
            "970\n",
            "975\n",
            "980\n",
            "985\n",
            "990\n",
            "995\n",
            "1000\n",
            "1005\n",
            "1010\n",
            "1015\n",
            "1020\n",
            "1025\n",
            "1030\n",
            "1035\n",
            "1040\n",
            "1045\n",
            "1050\n",
            "1055\n",
            "1060\n",
            "1065\n",
            "1070\n",
            "1075\n",
            "1080\n",
            "1085\n",
            "1090\n",
            "1095\n",
            "1100\n",
            "1105\n",
            "1110\n",
            "1115\n",
            "1120\n",
            "1125\n",
            "1130\n",
            "1135\n",
            "1140\n",
            "1145\n",
            "1150\n",
            "1155\n",
            "1160\n",
            "1165\n",
            "1170\n",
            "1175\n",
            "1180\n",
            "1185\n",
            "1190\n",
            "1195\n",
            "1200\n",
            "1205\n",
            "1210\n",
            "1215\n",
            "1220\n",
            "1225\n",
            "1230\n",
            "1235\n",
            "1240\n",
            "1245\n",
            "1250\n",
            "1255\n",
            "1260\n",
            "1265\n",
            "1270\n",
            "1275\n",
            "1280\n",
            "1285\n",
            "1290\n",
            "1295\n",
            "1300\n",
            "1305\n",
            "1310\n",
            "1315\n",
            "1320\n",
            "1325\n",
            "1330\n",
            "1335\n",
            "1340\n",
            "1345\n",
            "1350\n",
            "1355\n",
            "1360\n",
            "1365\n",
            "1370\n",
            "1375\n",
            "1380\n",
            "1385\n",
            "1390\n",
            "1395\n",
            "1400\n",
            "1405\n",
            "1410\n",
            "1415\n",
            "1420\n",
            "1425\n",
            "1430\n",
            "1435\n",
            "1440\n",
            "1445\n",
            "1450\n",
            "1455\n",
            "1460\n",
            "1465\n",
            "1470\n",
            "1475\n",
            "1480\n",
            "1485\n",
            "1490\n",
            "1495\n",
            "1500\n"
          ],
          "name": "stdout"
        }
      ]
    },
    {
      "cell_type": "markdown",
      "metadata": {
        "id": "q888Hnf2Boow",
        "colab_type": "text"
      },
      "source": [
        "**TUPLE EXAMPLE**"
      ]
    },
    {
      "cell_type": "markdown",
      "metadata": {
        "id": "05jBTxcxhmV7",
        "colab_type": "text"
      },
      "source": [
        "1.Get  a string and store word by word as elements in a tuple and find the largest word in the  tuple and print it"
      ]
    },
    {
      "cell_type": "code",
      "metadata": {
        "id": "bzI5vCcdfphU",
        "colab_type": "code",
        "colab": {
          "base_uri": "https://localhost:8080/",
          "height": 118
        },
        "outputId": "3126944b-a476-44d3-e347-c33d6d7596ef"
      },
      "source": [
        "a=[]\n",
        "n= int(input(\"Enter the number of elements in list:\"))\n",
        "for x in range(0,n):\n",
        "    element=input(\"Enter element\" + str(x+1) + \":\")\n",
        "    a.append(element)\n",
        "max1=len(a[0])\n",
        "temp=a[0]\n",
        "for i in a:\n",
        "    if(len(i)>max1):\n",
        "       max1=len(i)\n",
        "       temp=i\n",
        "print(\"The word with the longest length is:\")\n",
        "print(temp)"
      ],
      "execution_count": 6,
      "outputs": [
        {
          "output_type": "stream",
          "text": [
            "Enter the number of elements in list:3\n",
            "Enter element1:apple\n",
            "Enter element2:ball\n",
            "Enter element3:cat\n",
            "The word with the longest length is:\n",
            "apple\n"
          ],
          "name": "stdout"
        }
      ]
    },
    {
      "cell_type": "markdown",
      "metadata": {
        "id": "nn0c9APqh3p6",
        "colab_type": "text"
      },
      "source": [
        "2.Get rollno and marks (Rollno, mark) as list of tuples for n number of students through keyboard  and print them in marks descending order with rollno.\n",
        "\n"
      ]
    },
    {
      "cell_type": "code",
      "metadata": {
        "id": "RCyTensphsQo",
        "colab_type": "code",
        "colab": {
          "base_uri": "https://localhost:8080/",
          "height": 118
        },
        "outputId": "039c4891-d9ad-4b47-c1fa-4a0aeb664eb7"
      },
      "source": [
        "print(sorted([(input(\"Enter rollno: \"), input(\"Enter marks: \")) for i in range(int(input(\"Enter number of students\")))], key=lambda x: x[1],reverse=True))"
      ],
      "execution_count": 8,
      "outputs": [
        {
          "output_type": "stream",
          "text": [
            "Enter number of students2\n",
            "Enter rollno: 10\n",
            "Enter marks: 90\n",
            "Enter rollno: 15\n",
            "Enter marks: 85\n",
            "[('10', '90'), ('15', '85')]\n"
          ],
          "name": "stdout"
        }
      ]
    },
    {
      "cell_type": "markdown",
      "metadata": {
        "id": "qWfl790TCehG",
        "colab_type": "text"
      },
      "source": [
        "3.Get name and salary (name, salary) as list of tuples for n number of employees through keyboard  and print them in name alphabetical order with salary\n",
        "\n"
      ]
    },
    {
      "cell_type": "code",
      "metadata": {
        "id": "GZP5vlr7CPNg",
        "colab_type": "code",
        "colab": {
          "base_uri": "https://localhost:8080/",
          "height": 118
        },
        "outputId": "a75ab77e-c5f6-4106-f31a-1eb57e38e745"
      },
      "source": [
        "print(sorted([(input(\"Enter name: \"), input(\"Enter salary: \")) for i in range(int(input(\"Enter number of employees\")))], key=lambda x: x[0]))"
      ],
      "execution_count": 10,
      "outputs": [
        {
          "output_type": "stream",
          "text": [
            "Enter number of employees2\n",
            "Enter name: ramya\n",
            "Enter salary: 15000\n",
            "Enter name: asha\n",
            "Enter salary: 10000\n",
            "[('asha', '10000'), ('ramya', '15000')]\n"
          ],
          "name": "stdout"
        }
      ]
    },
    {
      "cell_type": "code",
      "metadata": {
        "id": "iGaFWQLTCoyJ",
        "colab_type": "code",
        "colab": {}
      },
      "source": [
        ""
      ],
      "execution_count": 0,
      "outputs": []
    }
  ]
}