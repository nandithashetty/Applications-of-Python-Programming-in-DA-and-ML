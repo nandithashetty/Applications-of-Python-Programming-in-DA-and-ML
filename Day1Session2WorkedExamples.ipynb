{
  "nbformat": 4,
  "nbformat_minor": 0,
  "metadata": {
    "colab": {
      "name": "Day1Session2WorkedExamples.ipynb",
      "provenance": [],
      "authorship_tag": "ABX9TyMAW/LJBa4g8nmNjytS/HKF",
      "include_colab_link": true
    },
    "kernelspec": {
      "name": "python3",
      "display_name": "Python 3"
    }
  },
  "cells": [
    {
      "cell_type": "markdown",
      "metadata": {
        "id": "view-in-github",
        "colab_type": "text"
      },
      "source": [
        "<a href=\"https://colab.research.google.com/github/nandithashetty/Applications-of-Python-Programming-in-DA-and-ML/blob/master/Day1Session2WorkedExamples.ipynb\" target=\"_parent\"><img src=\"https://colab.research.google.com/assets/colab-badge.svg\" alt=\"Open In Colab\"/></a>"
      ]
    },
    {
      "cell_type": "markdown",
      "metadata": {
        "id": "KUWX6QJmwXQU",
        "colab_type": "text"
      },
      "source": [
        "1.Python Program to find the factorial of a number using loop. "
      ]
    },
    {
      "cell_type": "code",
      "metadata": {
        "id": "rkWN8SxhwMA9",
        "colab_type": "code",
        "colab": {
          "base_uri": "https://localhost:8080/",
          "height": 67
        },
        "outputId": "93e84bc7-e234-4eb5-af17-38686d7eeb9f"
      },
      "source": [
        "n=int(input(\"Enter number:\"))\n",
        "fact=1\n",
        "\n",
        "while(n>0):\n",
        "    fact=fact*n\n",
        "    n=n-1\n",
        "print(\"Factorial of the number is: \")\n",
        "print(fact)\n"
      ],
      "execution_count": 1,
      "outputs": [
        {
          "output_type": "stream",
          "text": [
            "Enter number:4\n",
            "Factorial of the number is: \n",
            "24\n"
          ],
          "name": "stdout"
        }
      ]
    },
    {
      "cell_type": "markdown",
      "metadata": {
        "id": "dux4euV4wSqp",
        "colab_type": "text"
      },
      "source": [
        "2.Python Program to reverse a number using loop "
      ]
    },
    {
      "cell_type": "code",
      "metadata": {
        "id": "OnFSmegexsvr",
        "colab_type": "code",
        "colab": {
          "base_uri": "https://localhost:8080/",
          "height": 67
        },
        "outputId": "6ee5f940-24c5-4f4c-9d0e-1cb699123e66"
      },
      "source": [
        "r=0\n",
        "n=int(input(\"Enter a number: \"))\n",
        "while(n>0):\n",
        "    dig=n%10\n",
        "    r=r*10+dig\n",
        "    n=n//10\n",
        "print(\"The reversed no  is:\")\n",
        "print(r)\n"
      ],
      "execution_count": 2,
      "outputs": [
        {
          "output_type": "stream",
          "text": [
            "Enter a number: 123\n",
            "The reversed no  is:\n",
            "321\n"
          ],
          "name": "stdout"
        }
      ]
    },
    {
      "cell_type": "markdown",
      "metadata": {
        "id": "h7ZTscTbx5ZU",
        "colab_type": "text"
      },
      "source": [
        "3.Write a Python program to construct the following pattern, using a nested for loop.\n"
      ]
    },
    {
      "cell_type": "code",
      "metadata": {
        "id": "Fm4axZAyxx7j",
        "colab_type": "code",
        "colab": {
          "base_uri": "https://localhost:8080/",
          "height": 185
        },
        "outputId": "3d6cdc6d-ed76-432d-d40e-f8005f878be6"
      },
      "source": [
        "n=5\n",
        "for i in range(n):\n",
        "    for j in range(i):\n",
        "        print ('* ', end=\"\")\n",
        "    print('')\n",
        "\n",
        "for i in range(n,0,-1):\n",
        "    for j in range(i):\n",
        "        print('* ', end=\"\")\n",
        "    print('')\n"
      ],
      "execution_count": 4,
      "outputs": [
        {
          "output_type": "stream",
          "text": [
            "\n",
            "* \n",
            "* * \n",
            "* * * \n",
            "* * * * \n",
            "* * * * * \n",
            "* * * * \n",
            "* * * \n",
            "* * \n",
            "* \n"
          ],
          "name": "stdout"
        }
      ]
    },
    {
      "cell_type": "markdown",
      "metadata": {
        "id": "v0gDnMLRyZd7",
        "colab_type": "text"
      },
      "source": [
        "4.Python Program to replace all occurrences of ‘a’ with ‘$’ in a string. "
      ]
    },
    {
      "cell_type": "code",
      "metadata": {
        "id": "NZzOuDmryUID",
        "colab_type": "code",
        "colab": {
          "base_uri": "https://localhost:8080/",
          "height": 67
        },
        "outputId": "2fd39e03-2f93-4e62-832b-224f58717337"
      },
      "source": [
        "string=input(\"Enter string:\")\n",
        "string=string.replace('a','$')\n",
        "string=string.replace('A','$')\n",
        "print(\"Modified string:\")\n",
        "print(string)\n"
      ],
      "execution_count": 5,
      "outputs": [
        {
          "output_type": "stream",
          "text": [
            "Enter string:iam studing in alvas\n",
            "Modified string:\n",
            "i$m studing in $lv$s\n"
          ],
          "name": "stdout"
        }
      ]
    },
    {
      "cell_type": "markdown",
      "metadata": {
        "id": "HTvJi_57y2tT",
        "colab_type": "text"
      },
      "source": [
        "5.Python Program to remove the nth index character from a non-empty string. "
      ]
    },
    {
      "cell_type": "code",
      "metadata": {
        "id": "LVhie6OsyslV",
        "colab_type": "code",
        "colab": {
          "base_uri": "https://localhost:8080/",
          "height": 84
        },
        "outputId": "260cba4c-1ac2-4afc-ca62-07a1d15fb83e"
      },
      "source": [
        "def remove(string, n):  \n",
        "      first = string[:n]   \n",
        "      last = string[n+1:]  \n",
        "      return first + last\n",
        "string=input(\"Enter the sring:\")\n",
        "n=int(input(\"Enter the index of the character to remove:\"))\n",
        "print(\"Modified string:\")\n",
        "print(remove(string, n))\n"
      ],
      "execution_count": 6,
      "outputs": [
        {
          "output_type": "stream",
          "text": [
            "Enter the sring:we are indians\n",
            "Enter the index of the character to remove:4\n",
            "Modified string:\n",
            "we ae indians\n"
          ],
          "name": "stdout"
        }
      ]
    },
    {
      "cell_type": "markdown",
      "metadata": {
        "id": "aWUcr0zszM3H",
        "colab_type": "text"
      },
      "source": [
        "6.Python Program to detect if two strings are anagrams. "
      ]
    },
    {
      "cell_type": "code",
      "metadata": {
        "id": "olglNySRy_Vt",
        "colab_type": "code",
        "colab": {
          "base_uri": "https://localhost:8080/",
          "height": 67
        },
        "outputId": "9585493d-d885-4892-9de1-b6c7b5a27c08"
      },
      "source": [
        "s1=input(\"Enter first string:\")\n",
        "s2=input(\"Enter second string:\")\n",
        "if(sorted(s1)==sorted(s2)):\n",
        "      print(\"The strings are anagrams.\")\n",
        "else:\n",
        "      print(\"The strings aren't anagrams.\")\n"
      ],
      "execution_count": 7,
      "outputs": [
        {
          "output_type": "stream",
          "text": [
            "Enter first string:i am a student\n",
            "Enter second string:am i a student\n",
            "The strings are anagrams.\n"
          ],
          "name": "stdout"
        }
      ]
    },
    {
      "cell_type": "markdown",
      "metadata": {
        "id": "iC3RpTO-zgqI",
        "colab_type": "text"
      },
      "source": [
        "7.Python Program to form a string where the first character and the last character have been exchanged. "
      ]
    },
    {
      "cell_type": "code",
      "metadata": {
        "id": "51EaolhYzWOn",
        "colab_type": "code",
        "colab": {
          "base_uri": "https://localhost:8080/",
          "height": 67
        },
        "outputId": "97b423c9-765d-4834-e20d-339de50782d4"
      },
      "source": [
        "def change(string):\n",
        "      return string[-1:] + string[1:-1] + string[:1]\n",
        "string=input(\"Enter string:\")\n",
        "print(\"Modified string:\")\n",
        "print(change(string))\n"
      ],
      "execution_count": 8,
      "outputs": [
        {
          "output_type": "stream",
          "text": [
            "Enter string:alvas\n",
            "Modified string:\n",
            "slvaa\n"
          ],
          "name": "stdout"
        }
      ]
    },
    {
      "cell_type": "markdown",
      "metadata": {
        "id": "vSLIjOfnz39a",
        "colab_type": "text"
      },
      "source": [
        "8.Python Program to  count number of vowels from a non-empty string. "
      ]
    },
    {
      "cell_type": "code",
      "metadata": {
        "id": "PsiU0Cptzqt-",
        "colab_type": "code",
        "colab": {
          "base_uri": "https://localhost:8080/",
          "height": 67
        },
        "outputId": "8b858742-5da3-42d3-84f9-b25550d61a1e"
      },
      "source": [
        "string=input(\"Enter string:\")\n",
        "vowels=0\n",
        "for i in string:\n",
        "      if(i=='a' or i=='e' or i=='i' or i=='o' or i=='u' or i=='A' or i=='E' or i=='I' or i=='O' or i=='U'):\n",
        "            vowels=vowels+1\n",
        "print(\"Number of vowels are:\")\n",
        "print(vowels)\n"
      ],
      "execution_count": 9,
      "outputs": [
        {
          "output_type": "stream",
          "text": [
            "Enter string:nanditha\n",
            "Number of vowels are:\n",
            "3\n"
          ],
          "name": "stdout"
        }
      ]
    },
    {
      "cell_type": "markdown",
      "metadata": {
        "id": "P7Du8RZE0NeO",
        "colab_type": "text"
      },
      "source": [
        "9.Program for Divide by zero error detection"
      ]
    },
    {
      "cell_type": "code",
      "metadata": {
        "id": "Nkqowig20AKk",
        "colab_type": "code",
        "colab": {
          "base_uri": "https://localhost:8080/",
          "height": 235
        },
        "outputId": "927df0ee-fa04-4bb9-aaf3-c33763531607"
      },
      "source": [
        "flag = True\n",
        "\n",
        "def div(a, b):  \n",
        "       try:\n",
        "            print(\"Finally the division of %d/%d is %f\" % (a, b,a/b))\n",
        "            global flag\n",
        "            flag=False\n",
        "       except ZeroDivisionError:\n",
        "            print(\"Zero Division Error detected\")\n",
        "       else:\n",
        "            print(\"Division is successful\") \n",
        "       finally:\n",
        "            if flag is True:\n",
        "               print(\"Try again\")     \n",
        "            else:\n",
        "               print(\"Thank you\")\n",
        "       \n",
        "#global flag\n",
        "\n",
        "while flag is True:\n",
        "    div(int(input(\"Enter numerator\")),int(input(\"Enter denominator\")))\n"
      ],
      "execution_count": 10,
      "outputs": [
        {
          "output_type": "stream",
          "text": [
            "Enter numerator6\n",
            "Enter denominator0\n",
            "Zero Division Error detected\n",
            "Try again\n",
            "Enter numerator7\n",
            "Enter denominator0\n",
            "Zero Division Error detected\n",
            "Try again\n",
            "Enter numerator5\n",
            "Enter denominator6\n",
            "Finally the division of 5/6 is 0.833333\n",
            "Division is successful\n",
            "Thank you\n"
          ],
          "name": "stdout"
        }
      ]
    },
    {
      "cell_type": "markdown",
      "metadata": {
        "id": "flPfRl7P0i8G",
        "colab_type": "text"
      },
      "source": [
        "10.Program for ValueError error detection"
      ]
    },
    {
      "cell_type": "code",
      "metadata": {
        "id": "-xf4B23T0Xbb",
        "colab_type": "code",
        "colab": {
          "base_uri": "https://localhost:8080/",
          "height": 84
        },
        "outputId": "a16511d9-5d46-4ed0-c1aa-a92c0084a552"
      },
      "source": [
        "while True:\n",
        "     try:\n",
        "         x = int(input(\"Please enter a number: \"))\n",
        "         print(\" That was valid number. Thank you\")\n",
        "         break\n",
        "     except ValueError:\n",
        "         print(\"Oops!  That was no valid number.  Try again...\")\n"
      ],
      "execution_count": 12,
      "outputs": [
        {
          "output_type": "stream",
          "text": [
            "Please enter a number: 1.1\n",
            "Oops!  That was no valid number.  Try again...\n",
            "Please enter a number: 2\n",
            " That was valid number. Thank you\n"
          ],
          "name": "stdout"
        }
      ]
    },
    {
      "cell_type": "code",
      "metadata": {
        "id": "arhLs8wm0s9S",
        "colab_type": "code",
        "colab": {}
      },
      "source": [
        ""
      ],
      "execution_count": 0,
      "outputs": []
    }
  ]
}